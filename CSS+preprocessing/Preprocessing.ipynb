{
 "cells": [
  {
   "cell_type": "code",
   "execution_count": 1,
   "id": "89f8b99f-2dde-43f3-923f-b880df79a8c9",
   "metadata": {},
   "outputs": [
    {
     "name": "stderr",
     "output_type": "stream",
     "text": [
      "100%|██████████████████████████████████████████████████████████████████████████████| 1372/1372 [00:32<00:00, 42.26it/s]"
     ]
    },
    {
     "name": "stdout",
     "output_type": "stream",
     "text": [
      "Noise removal and PNG conversion completed.\n"
     ]
    },
    {
     "name": "stderr",
     "output_type": "stream",
     "text": [
      "\n"
     ]
    }
   ],
   "source": [
    "import tensorflow as tf\n",
    "import cv2\n",
    "import os\n",
    "from tqdm import tqdm\n",
    "# Path to the directory containing the Herlev dataset\n",
    "dataset_dir = 'DataCNN/train/SCC/'\n",
    "\n",
    "# Create a directory to save the filtered images\n",
    "output_dir = 'DataProcessed/train/SCC/'\n",
    "os.makedirs(output_dir, exist_ok=True)\n",
    "\n",
    "# List all image files in the dataset directory\n",
    "image_files = [os.path.join(dataset_dir, filename) for filename in os.listdir(dataset_dir) if filename.lower().endswith('.png')]\n",
    "\n",
    "# Define the CLAHE filter function\n",
    "def clahe_filter(image):\n",
    "    # Apply median filter\n",
    "    image_median = cv2.medianBlur(image, 3)  # Adjust the kernel size as needed\n",
    "\n",
    "    # Apply CLAHE filter to the median filtered image\n",
    "    clahe = cv2.createCLAHE(clipLimit=2.0, tileGridSize=(8, 8))\n",
    "    lab = cv2.cvtColor(image_median, cv2.COLOR_RGB2LAB)\n",
    "    lab_planes = cv2.split(lab)\n",
    "    lab_planes_list = list(lab_planes)\n",
    "    lab_planes_list[0] = clahe.apply(lab_planes_list[0])\n",
    "    lab = cv2.merge(lab_planes_list)\n",
    "    filtered_image = cv2.cvtColor(lab, cv2.COLOR_LAB2RGB)\n",
    "    \n",
    "    return filtered_image\n",
    "\n",
    "# Apply CLAHE filtering to each image, convert to PNG, and save the filtered images\n",
    "for image_file in tqdm(image_files):\n",
    "    # Load the image using OpenCV\n",
    "    image = cv2.imread(image_file)\n",
    "\n",
    "    # Convert the image to RGB (OpenCV reads images in BGR format)\n",
    "    image_rgb = cv2.cvtColor(image, cv2.COLOR_BGR2RGB)\n",
    "\n",
    "    # Apply CLAHE filtering\n",
    "    filtered_image = clahe_filter(image_rgb)\n",
    "\n",
    "    # Get the file name without extension\n",
    "    filename = os.path.splitext(os.path.basename(image_file))[0]\n",
    "\n",
    "    # Save the filtered image as PNG format\n",
    "    output_file = os.path.join(output_dir, f'{filename}_filtered.png')\n",
    "    cv2.imwrite(output_file, filtered_image)\n",
    "\n",
    "print(\"Noise removal and PNG conversion completed.\")"
   ]
  },
  {
   "cell_type": "code",
   "execution_count": null,
   "id": "8ece4961-301a-493a-a589-75d9083b4920",
   "metadata": {},
   "outputs": [],
   "source": []
  }
 ],
 "metadata": {
  "kernelspec": {
   "display_name": "Python 3 (ipykernel)",
   "language": "python",
   "name": "python3"
  },
  "language_info": {
   "codemirror_mode": {
    "name": "ipython",
    "version": 3
   },
   "file_extension": ".py",
   "mimetype": "text/x-python",
   "name": "python",
   "nbconvert_exporter": "python",
   "pygments_lexer": "ipython3",
   "version": "3.8.19"
  }
 },
 "nbformat": 4,
 "nbformat_minor": 5
}
